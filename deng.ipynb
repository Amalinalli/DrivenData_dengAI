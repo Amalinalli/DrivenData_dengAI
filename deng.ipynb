{
 "cells": [
  {
   "cell_type": "code",
   "execution_count": 27,
   "metadata": {},
   "outputs": [],
   "source": [
    "import numpy as np\n",
    "import sys\n",
    "import pandas as pd\n",
    "import seaborn as sns\n",
    "import matplotlib.pyplot as plt\n",
    "from sklearn.linear_model import LinearRegression\n",
    "from sklearn.metrics import mean_squared_error\n",
    "from sklearn.model_selection import train_test_split\n",
    "from sklearn import linear_model\n",
    "from sklearn.model_selection import cross_val_score\n",
    "import xgboost as xgb"
   ]
  },
  {
   "cell_type": "code",
   "execution_count": 4,
   "metadata": {},
   "outputs": [
    {
     "name": "stdout",
     "output_type": "stream",
     "text": [
      "hello\n"
     ]
    }
   ],
   "source": [
    "print(\"hello\")"
   ]
  },
  {
   "cell_type": "code",
   "execution_count": 5,
   "metadata": {},
   "outputs": [],
   "source": [
    "# 1.Data\n",
    "df = pd.read_csv('dengue_features_train.csv')\n",
    "df_labels = pd.read_csv('dengue_labels_train.csv')"
   ]
  },
  {
   "cell_type": "code",
   "execution_count": 6,
   "metadata": {},
   "outputs": [
    {
     "name": "stdout",
     "output_type": "stream",
     "text": [
      "  city  year  weekofyear week_start_date   ndvi_ne   ndvi_nw   ndvi_se  \\\n",
      "0   sj  1990          18      1990-04-30  0.122600  0.103725  0.198483   \n",
      "1   sj  1990          19      1990-05-07  0.169900  0.142175  0.162357   \n",
      "2   sj  1990          20      1990-05-14  0.032250  0.172967  0.157200   \n",
      "3   sj  1990          21      1990-05-21  0.128633  0.245067  0.227557   \n",
      "4   sj  1990          22      1990-05-28  0.196200  0.262200  0.251200   \n",
      "\n",
      "    ndvi_sw  precipitation_amt_mm  reanalysis_air_temp_k        ...          \\\n",
      "0  0.177617                 12.42             297.572857        ...           \n",
      "1  0.155486                 22.82             298.211429        ...           \n",
      "2  0.170843                 34.54             298.781429        ...           \n",
      "3  0.235886                 15.36             298.987143        ...           \n",
      "4  0.247340                  7.52             299.518571        ...           \n",
      "\n",
      "   reanalysis_precip_amt_kg_per_m2  reanalysis_relative_humidity_percent  \\\n",
      "0                            32.00                             73.365714   \n",
      "1                            17.94                             77.368571   \n",
      "2                            26.10                             82.052857   \n",
      "3                            13.90                             80.337143   \n",
      "4                            12.20                             80.460000   \n",
      "\n",
      "   reanalysis_sat_precip_amt_mm  reanalysis_specific_humidity_g_per_kg  \\\n",
      "0                         12.42                              14.012857   \n",
      "1                         22.82                              15.372857   \n",
      "2                         34.54                              16.848571   \n",
      "3                         15.36                              16.672857   \n",
      "4                          7.52                              17.210000   \n",
      "\n",
      "   reanalysis_tdtr_k  station_avg_temp_c  station_diur_temp_rng_c  \\\n",
      "0           2.628571           25.442857                 6.900000   \n",
      "1           2.371429           26.714286                 6.371429   \n",
      "2           2.300000           26.714286                 6.485714   \n",
      "3           2.428571           27.471429                 6.771429   \n",
      "4           3.014286           28.942857                 9.371429   \n",
      "\n",
      "   station_max_temp_c  station_min_temp_c  station_precip_mm  \n",
      "0                29.4                20.0               16.0  \n",
      "1                31.7                22.2                8.6  \n",
      "2                32.2                22.8               41.4  \n",
      "3                33.3                23.3                4.0  \n",
      "4                35.0                23.9                5.8  \n",
      "\n",
      "[5 rows x 24 columns]\n"
     ]
    }
   ],
   "source": [
    "print(df.head())"
   ]
  },
  {
   "cell_type": "code",
   "execution_count": 10,
   "metadata": {},
   "outputs": [
    {
     "data": {
      "text/plain": [
       "year                                       int64\n",
       "weekofyear                                 int64\n",
       "ndvi_ne                                  float64\n",
       "ndvi_nw                                  float64\n",
       "ndvi_se                                  float64\n",
       "ndvi_sw                                  float64\n",
       "precipitation_amt_mm                     float64\n",
       "reanalysis_air_temp_k                    float64\n",
       "reanalysis_avg_temp_k                    float64\n",
       "reanalysis_dew_point_temp_k              float64\n",
       "reanalysis_max_air_temp_k                float64\n",
       "reanalysis_min_air_temp_k                float64\n",
       "reanalysis_precip_amt_kg_per_m2          float64\n",
       "reanalysis_relative_humidity_percent     float64\n",
       "reanalysis_sat_precip_amt_mm             float64\n",
       "reanalysis_specific_humidity_g_per_kg    float64\n",
       "reanalysis_tdtr_k                        float64\n",
       "station_avg_temp_c                       float64\n",
       "station_diur_temp_rng_c                  float64\n",
       "station_max_temp_c                       float64\n",
       "station_min_temp_c                       float64\n",
       "station_precip_mm                        float64\n",
       "total_cases                                int64\n",
       "dtype: object"
      ]
     },
     "execution_count": 10,
     "metadata": {},
     "output_type": "execute_result"
    }
   ],
   "source": [
    "df2 = df.merge(df_labels, how='inner')\n",
    "df2 = df2.dropna()\n",
    "df2 = df2.drop('week_start_date', axis=1)\n",
    "df2 = df2.drop('city', axis=1)\n",
    "df2.dtypes"
   ]
  },
  {
   "cell_type": "code",
   "execution_count": 11,
   "metadata": {},
   "outputs": [],
   "source": [
    "y = df2['total_cases'].values\n",
    "X = df2.drop('total_cases',axis=1).values"
   ]
  },
  {
   "cell_type": "code",
   "execution_count": 12,
   "metadata": {
    "scrolled": true
   },
   "outputs": [
    {
     "data": {
      "image/png": "[encoded data removed]",
      "text/plain": [
       "<Figure size 432x288 with 2 Axes>"
      ]
     },
     "metadata": {},
     "output_type": "display_data"
    }
   ],
   "source": [
    "sns.heatmap(df.corr(), square=True, cmap='RdYlGn')\n",
    "plt.show()"
   ]
  },
  {
   "cell_type": "code",
   "execution_count": 13,
   "metadata": {},
   "outputs": [],
   "source": [
    "#Testing linear regression minus categorical and date variables \n",
    "X_train, X_test, y_train, y_test = train_test_split(X,y,test_size = .3,random_state=42)\n",
    "reg_all = LinearRegression()\n",
    "reg_all.fit(X_train,y_train)\n",
    "y_pred = reg_all.predict(X_test)"
   ]
  },
  {
   "cell_type": "code",
   "execution_count": 15,
   "metadata": {},
   "outputs": [
    {
     "name": "stdout",
     "output_type": "stream",
     "text": [
      "R^2: 0.265169144276\n",
      "Root Mean Squared Error: 27.0898657797\n",
      "Standard deviation actual target data: 30.843685015\n",
      "Mean actual target data: 21.1976647206\n"
     ]
    }
   ],
   "source": [
    "print(\"R^2: {}\".format(reg_all.score(X_test, y_test)))\n",
    "rmse = np.sqrt(mean_squared_error(y_test,y_pred))\n",
    "print(\"Root Mean Squared Error: {}\".format(rmse))\n",
    "print(\"Standard deviation actual target data: {}\".format(np.std(y)))\n",
    "print(\"Mean actual target data: {}\".format(np.mean(y)))"
   ]
  },
  {
   "cell_type": "code",
   "execution_count": 53,
   "metadata": {},
   "outputs": [
    {
     "name": "stdout",
     "output_type": "stream",
     "text": [
      "[ 0.05296225  0.06589237 -0.16687003 -2.04779371 -1.82906087]\n",
      "Average cv score: -0.784973996077\n",
      "[ 4.37396048e-03 -7.16680772e-02 -4.97302026e-02  8.72369067e-02\n",
      " -5.41379057e+00  1.35003837e-01 -3.96241431e+00 -1.67444976e-01\n",
      " -3.41674257e+00 -1.04562508e+00]\n",
      "Average cv score: -1.39008010852\n"
     ]
    }
   ],
   "source": [
    "#Now we are going to try 5 fold cross validation with Rsquared\n",
    "reg = linear_model.LinearRegression()\n",
    "cv_scores = cross_val_score(reg, X, y, cv = 5)\n",
    "print(cv_scores)\n",
    "print(\"Average cv score: {}\".format(np.mean(cv_scores)))\n",
    "cv_scores = cross_val_score(reg, X, y, cv = 10)\n",
    "print(cv_scores)\n",
    "#OMG this model is terrible\n",
    "print(\"Average cv score: {}\".format(np.mean(cv_scores)))"
   ]
  },
  {
   "cell_type": "code",
   "execution_count": 42,
   "metadata": {},
   "outputs": [
    {
     "name": "stdout",
     "output_type": "stream",
     "text": [
      "Root Mean Squared Error: 24.0321554497\n"
     ]
    }
   ],
   "source": [
    "#Testing XGBoost with base trees\n",
    "X_train, X_test, y_train, y_test = train_test_split(X,y,test_size = .3,random_state=42)\n",
    "xg_reg = xgb.XGBRegressor(objective = 'reg:linear', n_estimators = 15, seed = 46)\n",
    "xg_reg.fit(X_train, y_train)\n",
    "predictions = xg_reg.predict(X_test)\n",
    "rmse = np.sqrt(mean_squared_error(y_test, predictions))\n",
    "print(\"Root Mean Squared Error: {}\".format(rmse))"
   ]
  },
  {
   "cell_type": "code",
   "execution_count": 43,
   "metadata": {},
   "outputs": [
    {
     "name": "stdout",
     "output_type": "stream",
     "text": [
      "Root Mean Squared Error: 28.7719528574\n"
     ]
    }
   ],
   "source": [
    "#Testing XGBoost with base lines\n",
    "DM_train = xgb.DMatrix(data = X_train, label = y_train)\n",
    "DM_test = xgb.DMatrix(data = X_test, label = y_test)\n",
    "params = {\"booster\":\"gblinear\", \"objective\":\"reg:linear\"}\n",
    "xg_reg = xgb.train(params=params, dtrain=DM_train,num_boost_round=15)\n",
    "predictions = xg_reg.predict(DM_test)\n",
    "rmse = np.sqrt(mean_squared_error(y_test, predictions))\n",
    "print(\"Root Mean Squared Error: {}\".format(rmse))\n",
    "\n",
    "\n"
   ]
  },
  {
   "cell_type": "code",
   "execution_count": 52,
   "metadata": {},
   "outputs": [
    {
     "name": "stdout",
     "output_type": "stream",
     "text": [
      "[16:13:23] /workspace/src/tree/updater_prune.cc:74: tree pruning end, 1 roots, 60 extra nodes, 0 pruned nodes, max_depth=5\n",
      "[16:13:23] /workspace/src/tree/updater_prune.cc:74: tree pruning end, 1 roots, 52 extra nodes, 0 pruned nodes, max_depth=5\n",
      "[16:13:23] /workspace/src/tree/updater_prune.cc:74: tree pruning end, 1 roots, 58 extra nodes, 0 pruned nodes, max_depth=5\n",
      "[16:13:23] /workspace/src/tree/updater_prune.cc:74: tree pruning end, 1 roots, 58 extra nodes, 0 pruned nodes, max_depth=5\n",
      "[16:13:23] /workspace/src/tree/updater_prune.cc:74: tree pruning end, 1 roots, 52 extra nodes, 0 pruned nodes, max_depth=5\n",
      "[16:13:23] /workspace/src/tree/updater_prune.cc:74: tree pruning end, 1 roots, 60 extra nodes, 0 pruned nodes, max_depth=5\n",
      "[16:13:23] /workspace/src/tree/updater_prune.cc:74: tree pruning end, 1 roots, 56 extra nodes, 0 pruned nodes, max_depth=5\n",
      "[16:13:23] /workspace/src/tree/updater_prune.cc:74: tree pruning end, 1 roots, 56 extra nodes, 0 pruned nodes, max_depth=5\n",
      "[16:13:23] /workspace/src/tree/updater_prune.cc:74: tree pruning end, 1 roots, 50 extra nodes, 0 pruned nodes, max_depth=5\n",
      "[16:13:23] /workspace/src/tree/updater_prune.cc:74: tree pruning end, 1 roots, 56 extra nodes, 0 pruned nodes, max_depth=5\n",
      "[16:13:23] /workspace/src/tree/updater_prune.cc:74: tree pruning end, 1 roots, 60 extra nodes, 0 pruned nodes, max_depth=5\n",
      "[16:13:23] /workspace/src/tree/updater_prune.cc:74: tree pruning end, 1 roots, 56 extra nodes, 0 pruned nodes, max_depth=5\n",
      "[16:13:23] /workspace/src/tree/updater_prune.cc:74: tree pruning end, 1 roots, 54 extra nodes, 0 pruned nodes, max_depth=5\n",
      "[16:13:23] /workspace/src/tree/updater_prune.cc:74: tree pruning end, 1 roots, 50 extra nodes, 0 pruned nodes, max_depth=5\n",
      "[16:13:23] /workspace/src/tree/updater_prune.cc:74: tree pruning end, 1 roots, 60 extra nodes, 0 pruned nodes, max_depth=5\n",
      "[16:13:23] /workspace/src/tree/updater_prune.cc:74: tree pruning end, 1 roots, 58 extra nodes, 0 pruned nodes, max_depth=5\n",
      "[16:13:23] /workspace/src/tree/updater_prune.cc:74: tree pruning end, 1 roots, 62 extra nodes, 0 pruned nodes, max_depth=5\n",
      "[16:13:23] /workspace/src/tree/updater_prune.cc:74: tree pruning end, 1 roots, 50 extra nodes, 0 pruned nodes, max_depth=5\n",
      "[16:13:23] /workspace/src/tree/updater_prune.cc:74: tree pruning end, 1 roots, 46 extra nodes, 0 pruned nodes, max_depth=5\n",
      "[16:13:23] /workspace/src/tree/updater_prune.cc:74: tree pruning end, 1 roots, 56 extra nodes, 0 pruned nodes, max_depth=5\n",
      "[16:13:23] /workspace/src/tree/updater_prune.cc:74: tree pruning end, 1 roots, 58 extra nodes, 0 pruned nodes, max_depth=5\n",
      "[16:13:23] /workspace/src/tree/updater_prune.cc:74: tree pruning end, 1 roots, 58 extra nodes, 0 pruned nodes, max_depth=5\n",
      "[16:13:23] /workspace/src/tree/updater_prune.cc:74: tree pruning end, 1 roots, 54 extra nodes, 0 pruned nodes, max_depth=5\n",
      "[16:13:23] /workspace/src/tree/updater_prune.cc:74: tree pruning end, 1 roots, 54 extra nodes, 0 pruned nodes, max_depth=5\n",
      "[16:13:23] /workspace/src/tree/updater_prune.cc:74: tree pruning end, 1 roots, 54 extra nodes, 0 pruned nodes, max_depth=5\n",
      "   test-rmse-mean  test-rmse-std  train-rmse-mean  train-rmse-std\n",
      "0       30.698098       4.327359        29.620901        1.154071\n",
      "1       26.750058       4.271326        24.268055        1.064263\n",
      "2       24.562352       4.764412        20.369182        0.773815\n",
      "3       22.914147       4.516996        17.448997        0.825181\n",
      "4       21.937382       4.343288        15.540823        0.862227\n"
     ]
    }
   ],
   "source": [
    "#Cross validation for XGBoost\n",
    "dmatrix_XGB = xgb.DMatrix(data = X, label = y)\n",
    "params = {\"objective\":\"reg:linear\", \"max_depth\": 5}\n",
    "cv_xgb_result = xgb.cv(dtrain=dmatrix_XGB, params=params, nfold=5, num_boost_round=5, \n",
    "                       metrics=\"rmse\", as_pandas = True, seed=46)\n",
    "print(cv_xgb_result)"
   ]
  },
  {
   "cell_type": "code",
   "execution_count": null,
   "metadata": {},
   "outputs": [],
   "source": []
  }
 ],
 "metadata": {
  "kernelspec": {
   "display_name": "Python 2",
   "language": "python",
   "name": "python2"
  },
  "language_info": {
   "codemirror_mode": {
    "name": "ipython",
    "version": 2
   },
   "file_extension": ".py",
   "mimetype": "text/x-python",
   "name": "python",
   "nbconvert_exporter": "python",
   "pygments_lexer": "ipython2",
   "version": "2.7.15"
  }
 },
 "nbformat": 4,
 "nbformat_minor": 2
}
